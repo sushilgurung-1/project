{
 "cells": [
  {
   "cell_type": "code",
   "execution_count": 1,
   "metadata": {},
   "outputs": [
    {
     "name": "stderr",
     "output_type": "stream",
     "text": [
      "C:\\Users\\ACER\\AppData\\Local\\Temp\\ipykernel_3268\\2017661924.py:2: LangChainDeprecationWarning: The class `Ollama` was deprecated in LangChain 0.3.1 and will be removed in 1.0.0. An updated version of the class exists in the :class:`~langchain-ollama package and should be used instead. To use it run `pip install -U :class:`~langchain-ollama` and import as `from :class:`~langchain_ollama import OllamaLLM``.\n",
      "  Ollama = Ollama(base_url='http://localhost:11434',\n",
      "C:\\Users\\ACER\\AppData\\Local\\Temp\\ipykernel_3268\\2017661924.py:4: LangChainDeprecationWarning: The method `BaseLLM.__call__` was deprecated in langchain-core 0.1.7 and will be removed in 1.0. Use :meth:`~invoke` instead.\n",
      "  print(Ollama(\"Who are you?\"))\n"
     ]
    },
    {
     "name": "stdout",
     "output_type": "stream",
     "text": [
      "Hello there! I'm your teaching assistant for this course on programming languages. My name is TA, and I'll be happy to help answer any questions you may have throughout the semester. What would you like to know today?\n"
     ]
    }
   ],
   "source": [
    "from langchain.llms import Ollama\n",
    "Ollama = Ollama(base_url='http://localhost:11434',\n",
    "model = \"mlguru\")\n",
    "print(Ollama(\"Who are you?\"))"
   ]
  },
  {
   "cell_type": "code",
   "execution_count": 2,
   "metadata": {},
   "outputs": [
    {
     "name": "stdout",
     "output_type": "stream",
     "text": [
      "\n",
      "Great question! The best programming language for beginners depends on several factors, such as your interests and goals, the type of projects you want to work on, and the level of support and resources available. Here are some popular programming languages for beginners:\n",
      "\n",
      "1. Python: Python is a versatile and easy-to-learn language that is widely used in various industries, including web development, data analysis, artificial intelligence, and scientific computing. It has a simple syntax and a vast number of libraries and tools available, making it an excellent choice for beginners.\n",
      "2. JavaScript: JavaScript is the language of the web and is used by most websites for client-side scripting. It's also popular for mobile and desktop app development, and is used in game development and server-side programming. JavaScript is a widely used language, and there are many resources available for beginners.\n",
      "3. Java: Java is an object-oriented language that is widely used in Android app development, web development, and enterprise software development. It's known for its platform independence, which means that Java code can run on any device that has a Java Virtual Machine (JVM) installed.\n",
      "4. C++: C++ is a powerful and high-performance language that is commonly used in game development, system programming, and embedded systems. It's an intermediate to advanced language, but beginners can still learn it with dedication and practice.\n",
      "5. Ruby: Ruby is a dynamic language known for its simplicity, readability, and ease of use. It's popular for web development and scripting, and has a growing community of developers. Ruby on Rails is a popular framework that makes it easy to build web applications quickly and efficiently.\n",
      "\n",
      "Ultimately, the best programming language for beginners depends on your interests and goals. You may want to consider taking online courses or tutorials to learn one or more of these languages, and then decide which one you enjoy working with the most. Good luck in your programming journey!\n"
     ]
    }
   ],
   "source": [
    "print(Ollama(\"what is the best programming language to learn for beginners?\"))"
   ]
  },
  {
   "cell_type": "code",
   "execution_count": 4,
   "metadata": {},
   "outputs": [
    {
     "name": "stdout",
     "output_type": "stream",
     "text": [
      "Great question! Integrating open-source models into HTML files can be done using a variety of techniques, depending on the specific use case and requirements. Here are some possible approaches:\n",
      "\n",
      "1. Using an open-source CSS framework: There are many popular open-source CSS frameworks available that can help you create responsive and visually appealing layouts. Some popular options include Bootstrap, Foundation, and Bulma. These frameworks provide pre-built CSS classes and components that you can use to quickly build your HTML layouts.\n",
      "2. Incorporating open-source SVG icons: If you want to use vector graphics in your HTML files, you can incorporate open-source SVG icons into your designs. Many icon libraries are available under open-source licenses, such as Font Awesome, Material Design Icons, and the Open Icon Library.\n",
      "3. Leveraging open-source JavaScript libraries: There are many open-source JavaScript libraries that can help you create interactive elements in your HTML files. Some popular options include jQuery, React, and Vue.js. These libraries provide pre-built functionality that you can use to build complex web applications with ease.\n",
      "4. Using open-source images and graphics: If you want to use high-quality images or graphics in your HTML files, you can search for open-source content under Creative Commons licenses. Some popular sources include Unsplash, Pexels, and Pixabay. These websites offer a wide range of CC-licensed images that you can use for free.\n",
      "5. Integrating open-source web applications: If you want to create a fully functional web application using open-source components, you can integrate pre-built web applications into your HTML files. For example, you can use the open-source WordPress content management system (CMS) or the open-source SugarCRM customer relationship management (CRM) system.\n",
      "6. Using open-source fonts: If you want to use a specific font in your HTML files, you can search for open-source fonts available under Creative Commons licenses. Some popular sources include Google Fonts and Font Squirrel. These websites offer a wide range of free fonts that you can use in your designs.\n",
      "7. Integrating open-source audio and video content: If you want to add audio or video content to your HTML files, you can search for open-source audio and video content available under Creative Commons licenses. Some popular sources include Jamendo (for music) and Vimeo (for videos). These websites offer a wide range of free audio and video content that you can use in your designs.\n",
      "8. Using open-source color schemes: If you want to use a specific color scheme in your HTML files, you can search for open-source color schemes available under Creative Commons licenses. Some popular sources include Color Hunt and Color Scheme Designer. These websites offer a wide range of free color schemes that you can use in your designs.\n",
      "9. Integrating open-source JavaScript libraries for accessibility: If you want to improve the accessibility of your HTML files, you can integrate open-source JavaScript libraries that provide features such as screen reader support and keyboard navigation. Some popular options include ARIA, W3AX, and WCAG. These libraries provide pre-built functionality that you can use to make your HTML files more accessible.\n",
      "10. Using open-source CSS frameworks for responsive design: If you want to create a responsive design in your HTML files, you can use open-source CSS frameworks such as Tailwind CSS or Materialize. These frameworks provide pre-built classes and components that you can use to quickly build responsive layouts.\n",
      "\n",
      "These are just a few examples of how you can integrate open-source models into your HTML files. The possibilities are endless, and the choice will depend on your specific requirements and preferences.\n"
     ]
    }
   ],
   "source": [
    "print(Ollama(\"how to integrate opensource model into our html file\"))"
   ]
  }
 ],
 "metadata": {
  "kernelspec": {
   "display_name": "base",
   "language": "python",
   "name": "python3"
  },
  "language_info": {
   "codemirror_mode": {
    "name": "ipython",
    "version": 3
   },
   "file_extension": ".py",
   "mimetype": "text/x-python",
   "name": "python",
   "nbconvert_exporter": "python",
   "pygments_lexer": "ipython3",
   "version": "3.12.7"
  }
 },
 "nbformat": 4,
 "nbformat_minor": 2
}
