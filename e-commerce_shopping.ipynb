{
 "cells": [
  {
   "cell_type": "code",
   "execution_count": 22,
   "metadata": {},
   "outputs": [
    {
     "name": "stdout",
     "output_type": "stream",
     "text": [
      "Welcome John Doe!\n",
      "product add successfully\n",
      "product add successfully\n",
      "(0, product_name:apple, price:10, quantity:2)\n",
      "(1, product_name:banana, price:20, quantity:3)\n",
      "product remove successfully\n"
     ]
    }
   ],
   "source": [
    "class Product:\n",
    "  def __init__(self, product_name, price, quantity):\n",
    "    self.product_name = product_name\n",
    "    self.price = price\n",
    "    self.quantity = quantity\n",
    "\n",
    "  def __repr__(self):\n",
    "    return f\"product_name:{self.product_name}, price:{self.price}, quantity:{self.quantity}\"\n",
    "\n",
    "class Cart:\n",
    "  def __init__(self):\n",
    "    self.cart = []\n",
    "  \n",
    "  # to add product in cart\n",
    "  def add_product(self, product):\n",
    "    self.cart.append(product)\n",
    "    print(\"product add successfully\")\n",
    "\n",
    "  # to remove product from cart\n",
    "  def remove_prouct(self):\n",
    "    if len(self.cart) == 0:\n",
    "      print(\"cart is empty\")\n",
    "    else:\n",
    "      for i in enumerate(self.cart):\n",
    "        print(i)\n",
    "      index = int(input(\"enter index to remove product: \"))\n",
    "      self.cart.pop(index)\n",
    "      index = int(input(\"enter index to remove product: \"))\n",
    "      self.cart.pop(index)\n",
    "      print(\"product remove successfully\")\n",
    "      \n",
    "  # to update product quantity\n",
    "  def total_cost(self):\n",
    "    for i in self.cart:\n",
    "      total = i.price * i.quantity\n",
    "      print(total)\n",
    "    \n",
    "  # to show all product in cart\n",
    "  def veiw_cart(self):\n",
    "    for i in self.cart:\n",
    "      print(i)\n",
    "\n",
    "class Customer:\n",
    "  def __init__(self,cus_id, name, email):\n",
    "    self.cus_id = cus_id\n",
    "    self.name = name\n",
    "    self.email = email\n",
    "    self.cart = Cart()\n",
    "\n",
    "  def __repr__(self):\n",
    "    return f\"name:{self.name}, email:{self.email}\"\n",
    "\n",
    "# example\n",
    "def main():\n",
    "  # create some projects \n",
    "  products = [\n",
    "    Product(\"apple\", 10, 2),\n",
    "    Product(\"banana\", 20, 3),\n",
    "    Product(\"orange\", 30, 4)\n",
    "  ]\n",
    "  # Create a customer\n",
    "  customer = Customer(1, \"John Doe\", \"john@example.com\")\n",
    "  print(f\"Welcome {customer.name}!\")\n",
    "\n",
    "  # Add products to the cart\n",
    "  customer.cart.add_product(products[0])\n",
    "  customer.cart.add_product(products[1])\n",
    "\n",
    "  # Remove a product from the cart\n",
    "  customer.cart.remove_prouct()\n",
    "\n",
    "if __name__ == \"__main__\":\n",
    "  main()"
   ]
  },
  {
   "cell_type": "code",
   "execution_count": null,
   "metadata": {},
   "outputs": [],
   "source": []
  },
  {
   "cell_type": "code",
   "execution_count": null,
   "metadata": {},
   "outputs": [],
   "source": []
  },
  {
   "cell_type": "code",
   "execution_count": null,
   "metadata": {},
   "outputs": [],
   "source": []
  }
 ],
 "metadata": {
  "kernelspec": {
   "display_name": "base",
   "language": "python",
   "name": "python3"
  },
  "language_info": {
   "codemirror_mode": {
    "name": "ipython",
    "version": 3
   },
   "file_extension": ".py",
   "mimetype": "text/x-python",
   "name": "python",
   "nbconvert_exporter": "python",
   "pygments_lexer": "ipython3",
   "version": "3.12.7"
  }
 },
 "nbformat": 4,
 "nbformat_minor": 2
}
